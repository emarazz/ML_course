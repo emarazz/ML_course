{
 "cells": [
  {
   "cell_type": "code",
   "execution_count": 1,
   "metadata": {},
   "outputs": [],
   "source": [
    "%matplotlib inline\n",
    "import numpy as np\n",
    "import matplotlib.pyplot as plt\n",
    "%load_ext autoreload\n",
    "%autoreload 2"
   ]
  },
  {
   "cell_type": "markdown",
   "metadata": {},
   "source": [
    "Data Generation\n",
    "==="
   ]
  },
  {
   "cell_type": "code",
   "execution_count": 2,
   "metadata": {},
   "outputs": [],
   "source": [
    "from numpy.random import rand, randn"
   ]
  },
  {
   "cell_type": "code",
   "execution_count": 3,
   "metadata": {},
   "outputs": [],
   "source": [
    "n, d, k = 100, 2, 2"
   ]
  },
  {
   "cell_type": "code",
   "execution_count": 4,
   "metadata": {},
   "outputs": [
    {
     "name": "stdout",
     "output_type": "stream",
     "text": [
      "[array([0.69872366, 0.75176984]), array([0.25997411, 0.14504062])]\n",
      "[array([[0.01764816, 0.        ],\n",
      "       [0.        , 0.06360523]]), array([[0.01764816, 0.        ],\n",
      "       [0.        , 0.06360523]])]\n"
     ]
    }
   ],
   "source": [
    "np.random.seed(20)\n",
    "X = rand(n, d)\n",
    "\n",
    "# means = [rand(d)  for _ in range(k)]  # works for any k\n",
    "means = [rand(d) * 0.5 + 0.5 , - rand(d)  * 0.5 + 0.5]  # for better plotting when k = 2\n",
    "\n",
    "S = np.diag(rand(d))\n",
    "\n",
    "sigmas = [S]*k # we'll use the same Sigma for all clusters for better visual results\n",
    "\n",
    "print(means)\n",
    "print(sigmas)"
   ]
  },
  {
   "cell_type": "markdown",
   "metadata": {},
   "source": [
    "Solution\n",
    "==="
   ]
  },
  {
   "cell_type": "code",
   "execution_count": 8,
   "metadata": {
    "scrolled": true
   },
   "outputs": [],
   "source": [
    "def compute_log_p(X, mean, sigma):\n",
    "    log_p = 1/((2*np.pi)*np.linalg.det(sigma)**(1/2))\n",
    "    print(np.linalg.inv(sigma).shape)\n",
    "    print((X-mean).T.shape)\n",
    "    print(np.dot(np.linalg.inv(sigma),(X-mean).T))\n",
    "    #print(np.dot((X-mean).T, np.linalg.inv(sigma)))\n",
    "    log_p *= np.exp(-1/2.*np.dot(np.dot((X-mean).T,np.dot(np.linalg.inv(sigma),(X-mean)))))\n",
    "    return log_p"
   ]
  },
  {
   "cell_type": "code",
   "execution_count": 9,
   "metadata": {},
   "outputs": [
    {
     "name": "stdout",
     "output_type": "stream",
     "text": [
      "(2, 2)\n",
      "(2, 100)\n",
      "[[-6.26653731e+00  1.09250515e+01 -3.75582518e+01 -1.81346214e+01\n",
      "  -2.31028009e+00 -2.41615689e+01  4.77556549e+00  4.33593241e+00\n",
      "  -3.29796359e+01 -2.60370156e+01  9.00387697e+00 -7.76493383e+00\n",
      "   4.05301563e+00 -3.82309494e+00 -1.34679338e+01 -1.09430909e+00\n",
      "  -2.43610890e+01  4.12062637e+00 -2.09380033e+01 -2.46538340e+01\n",
      "  -4.07239161e+00 -2.15401537e+01 -2.49742211e+01 -3.04334797e+01\n",
      "   7.20187879e+00  2.01589608e+00  4.53102415e+00  4.94939857e+00\n",
      "  -1.93983145e+00 -1.54739738e+01 -1.11890308e+01  5.32204717e-01\n",
      "   4.48119631e+00 -1.80708973e+01 -8.01753780e+00 -3.82147417e+00\n",
      "   1.09084382e+01 -2.00571625e+01 -9.71126996e+00 -2.43896815e+01\n",
      "  -3.68631207e+01 -2.26341874e+01 -2.07654339e+01  1.22343807e+01\n",
      "  -3.34945038e+01  3.21846214e+00 -3.75782289e+01  1.08954352e+01\n",
      "   1.27886045e+01  4.22325740e+00  7.18154659e+00 -1.95135175e+01\n",
      "  -1.72062391e+01 -1.84098417e+01 -1.60232390e+01 -2.03527256e+00\n",
      "   1.34603206e+00  1.49562596e+01  6.12375627e+00 -3.47959969e+01\n",
      "   1.68786534e+01 -2.61302168e+01  3.77009124e+00  1.23085537e+01\n",
      "  -1.44121720e+01 -2.68146309e-01  2.04038805e+00  1.39772212e+01\n",
      "  -2.49832827e+01  8.29643738e+00 -3.52267517e+01  5.22668348e+00\n",
      "   9.50049044e+00 -3.36137805e+01 -1.26680234e+01 -1.20539771e+01\n",
      "  -1.79588283e+01  2.13888405e+00 -9.83725262e-01 -3.23161387e+01\n",
      "  -1.63787352e+01 -4.57031383e+00 -1.76909479e+00 -2.83333648e+00\n",
      "   9.38599701e+00 -2.19637808e+01  1.46563079e+01 -1.59392320e+01\n",
      "  -5.21091100e-01 -1.44983419e+01 -9.40224737e+00 -2.80596713e+01\n",
      "  -1.30826350e+01 -3.08315168e+01 -2.16099666e+00  1.17839830e+01\n",
      "  -1.72116477e+01 -3.72717782e+01  7.89022656e+00 -3.87300754e+00]\n",
      " [ 2.29452638e+00  1.00726989e+00 -9.43511312e-01 -3.66729086e+00\n",
      "  -8.77159918e+00 -5.21402155e-01  1.54952341e+00 -1.12428724e+01\n",
      "  -7.69025402e-03 -7.81325359e+00  3.11309577e+00 -9.00852462e+00\n",
      "  -4.07810462e+00  1.37925886e+00 -3.99070562e+00 -1.58766691e+00\n",
      "  -1.07608309e+01 -4.25728653e+00 -3.79102107e+00 -6.93745246e+00\n",
      "  -3.05509493e+00 -5.61159191e+00 -2.66532650e+00 -2.41546190e+00\n",
      "  -9.36052083e+00 -5.39462532e+00  8.20698614e-01 -2.50738517e+00\n",
      "  -1.65399207e+00 -3.74499848e+00 -1.12362769e+01 -2.06491244e+00\n",
      "  -4.59648293e+00 -7.23018539e+00 -1.04960896e+01  3.03120726e+00\n",
      "   1.99374692e+00 -7.65177714e-01 -1.45354207e+00 -2.26400802e+00\n",
      "  -8.84663047e-01 -9.21518945e+00 -9.21829941e+00 -7.35387328e+00\n",
      "  -9.97980867e+00  1.36977120e+00 -9.90997166e+00 -3.72103975e+00\n",
      "  -2.68102479e+00 -5.17399155e+00 -5.75998629e+00 -5.08906728e+00\n",
      "   1.45994076e+00 -5.97732038e+00 -5.14462947e+00 -8.83565511e+00\n",
      "  -7.83125590e+00 -9.73361076e+00 -6.23807762e+00 -3.23889447e-01\n",
      "  -1.16684904e+01 -4.55693719e+00  3.47036650e+00 -2.58348327e+00\n",
      "  -4.88472219e+00 -3.95075444e-01 -5.77860162e+00  6.58741774e-01\n",
      "  -1.81247501e+00 -1.16970670e+01  3.73641103e+00 -2.33981680e-01\n",
      "  -8.19139686e+00 -1.38896909e-01  1.23936253e-01 -7.48108318e+00\n",
      "  -1.18808526e+00  3.44051645e+00 -4.10843295e+00 -3.89808968e+00\n",
      "  -7.80081182e+00  2.25208837e+00 -2.76575483e+00  3.29071857e+00\n",
      "   4.86735676e-01 -7.54428443e+00 -3.69980808e+00 -1.77511760e+00\n",
      "   2.62818857e-01  3.13723630e+00 -6.88950312e+00  3.67230434e+00\n",
      "  -7.67871070e-01 -3.26552580e-01 -2.41193402e-01  6.53192684e-01\n",
      "   2.67880294e+00  6.69320216e-01 -3.29914903e+00  3.47006156e+00]]\n"
     ]
    },
    {
     "ename": "ValueError",
     "evalue": "shapes (2,2) and (100,2) not aligned: 2 (dim 1) != 100 (dim 0)",
     "output_type": "error",
     "traceback": [
      "\u001b[0;31m-----------------------------------------------------------\u001b[0m",
      "\u001b[0;31mValueError\u001b[0m                Traceback (most recent call last)",
      "\u001b[0;32m<ipython-input-9-40f202c2927a>\u001b[0m in \u001b[0;36m<module>\u001b[0;34m\u001b[0m\n\u001b[0;32m----> 1\u001b[0;31m \u001b[0mlog_ps\u001b[0m \u001b[0;34m=\u001b[0m \u001b[0;34m[\u001b[0m\u001b[0mcompute_log_p\u001b[0m\u001b[0;34m(\u001b[0m\u001b[0mX\u001b[0m\u001b[0;34m,\u001b[0m \u001b[0mm\u001b[0m\u001b[0;34m,\u001b[0m \u001b[0ms\u001b[0m\u001b[0;34m)\u001b[0m \u001b[0;32mfor\u001b[0m \u001b[0mm\u001b[0m\u001b[0;34m,\u001b[0m \u001b[0ms\u001b[0m \u001b[0;32min\u001b[0m \u001b[0mzip\u001b[0m\u001b[0;34m(\u001b[0m\u001b[0mmeans\u001b[0m\u001b[0;34m,\u001b[0m \u001b[0msigmas\u001b[0m\u001b[0;34m)\u001b[0m\u001b[0;34m]\u001b[0m  \u001b[0;31m# exercise: try to do this without looping\u001b[0m\u001b[0;34m\u001b[0m\u001b[0;34m\u001b[0m\u001b[0m\n\u001b[0m",
      "\u001b[0;32m<ipython-input-9-40f202c2927a>\u001b[0m in \u001b[0;36m<listcomp>\u001b[0;34m(.0)\u001b[0m\n\u001b[0;32m----> 1\u001b[0;31m \u001b[0mlog_ps\u001b[0m \u001b[0;34m=\u001b[0m \u001b[0;34m[\u001b[0m\u001b[0mcompute_log_p\u001b[0m\u001b[0;34m(\u001b[0m\u001b[0mX\u001b[0m\u001b[0;34m,\u001b[0m \u001b[0mm\u001b[0m\u001b[0;34m,\u001b[0m \u001b[0ms\u001b[0m\u001b[0;34m)\u001b[0m \u001b[0;32mfor\u001b[0m \u001b[0mm\u001b[0m\u001b[0;34m,\u001b[0m \u001b[0ms\u001b[0m \u001b[0;32min\u001b[0m \u001b[0mzip\u001b[0m\u001b[0;34m(\u001b[0m\u001b[0mmeans\u001b[0m\u001b[0;34m,\u001b[0m \u001b[0msigmas\u001b[0m\u001b[0;34m)\u001b[0m\u001b[0;34m]\u001b[0m  \u001b[0;31m# exercise: try to do this without looping\u001b[0m\u001b[0;34m\u001b[0m\u001b[0;34m\u001b[0m\u001b[0m\n\u001b[0m",
      "\u001b[0;32m<ipython-input-8-3528a927723f>\u001b[0m in \u001b[0;36mcompute_log_p\u001b[0;34m(X, mean, sigma)\u001b[0m\n\u001b[1;32m      5\u001b[0m     \u001b[0mprint\u001b[0m\u001b[0;34m(\u001b[0m\u001b[0mnp\u001b[0m\u001b[0;34m.\u001b[0m\u001b[0mdot\u001b[0m\u001b[0;34m(\u001b[0m\u001b[0mnp\u001b[0m\u001b[0;34m.\u001b[0m\u001b[0mlinalg\u001b[0m\u001b[0;34m.\u001b[0m\u001b[0minv\u001b[0m\u001b[0;34m(\u001b[0m\u001b[0msigma\u001b[0m\u001b[0;34m)\u001b[0m\u001b[0;34m,\u001b[0m\u001b[0;34m(\u001b[0m\u001b[0mX\u001b[0m\u001b[0;34m-\u001b[0m\u001b[0mmean\u001b[0m\u001b[0;34m)\u001b[0m\u001b[0;34m.\u001b[0m\u001b[0mT\u001b[0m\u001b[0;34m)\u001b[0m\u001b[0;34m)\u001b[0m\u001b[0;34m\u001b[0m\u001b[0;34m\u001b[0m\u001b[0m\n\u001b[1;32m      6\u001b[0m     \u001b[0;31m#print(np.dot((X-mean).T, np.linalg.inv(sigma)))\u001b[0m\u001b[0;34m\u001b[0m\u001b[0;34m\u001b[0m\u001b[0;34m\u001b[0m\u001b[0m\n\u001b[0;32m----> 7\u001b[0;31m     \u001b[0mlog_p\u001b[0m \u001b[0;34m*=\u001b[0m \u001b[0mnp\u001b[0m\u001b[0;34m.\u001b[0m\u001b[0mexp\u001b[0m\u001b[0;34m(\u001b[0m\u001b[0;34m-\u001b[0m\u001b[0;36m1\u001b[0m\u001b[0;34m/\u001b[0m\u001b[0;36m2.\u001b[0m\u001b[0;34m*\u001b[0m\u001b[0mnp\u001b[0m\u001b[0;34m.\u001b[0m\u001b[0mdot\u001b[0m\u001b[0;34m(\u001b[0m\u001b[0mnp\u001b[0m\u001b[0;34m.\u001b[0m\u001b[0mdot\u001b[0m\u001b[0;34m(\u001b[0m\u001b[0;34m(\u001b[0m\u001b[0mX\u001b[0m\u001b[0;34m-\u001b[0m\u001b[0mmean\u001b[0m\u001b[0;34m)\u001b[0m\u001b[0;34m.\u001b[0m\u001b[0mT\u001b[0m\u001b[0;34m,\u001b[0m\u001b[0mnp\u001b[0m\u001b[0;34m.\u001b[0m\u001b[0mdot\u001b[0m\u001b[0;34m(\u001b[0m\u001b[0mnp\u001b[0m\u001b[0;34m.\u001b[0m\u001b[0mlinalg\u001b[0m\u001b[0;34m.\u001b[0m\u001b[0minv\u001b[0m\u001b[0;34m(\u001b[0m\u001b[0msigma\u001b[0m\u001b[0;34m)\u001b[0m\u001b[0;34m,\u001b[0m\u001b[0;34m(\u001b[0m\u001b[0mX\u001b[0m\u001b[0;34m-\u001b[0m\u001b[0mmean\u001b[0m\u001b[0;34m)\u001b[0m\u001b[0;34m)\u001b[0m\u001b[0;34m)\u001b[0m\u001b[0;34m)\u001b[0m\u001b[0;34m)\u001b[0m\u001b[0;34m\u001b[0m\u001b[0;34m\u001b[0m\u001b[0m\n\u001b[0m\u001b[1;32m      8\u001b[0m     \u001b[0;32mreturn\u001b[0m \u001b[0mlog_p\u001b[0m\u001b[0;34m\u001b[0m\u001b[0;34m\u001b[0m\u001b[0m\n",
      "\u001b[0;31mValueError\u001b[0m: shapes (2,2) and (100,2) not aligned: 2 (dim 1) != 100 (dim 0)"
     ]
    }
   ],
   "source": [
    "log_ps = [compute_log_p(X, m, s) for m, s in zip(means, sigmas)]  # exercise: try to do this without looping"
   ]
  },
  {
   "cell_type": "code",
   "execution_count": null,
   "metadata": {},
   "outputs": [],
   "source": [
    "assignments = np.argmax(log_ps, axis=0)\n",
    "print(assignments)"
   ]
  },
  {
   "cell_type": "code",
   "execution_count": null,
   "metadata": {
    "scrolled": true
   },
   "outputs": [],
   "source": [
    "colors = np.array(['red', 'green'])[assignments]\n",
    "plt.scatter(X[:, 0], X[:, 1], c=colors, s=100)\n",
    "plt.scatter(np.array(means)[:, 0], np.array(means)[:, 1], marker='*', s=200)\n",
    "plt.show()"
   ]
  }
 ],
 "metadata": {
  "kernelspec": {
   "display_name": "Python 3",
   "language": "python",
   "name": "python3"
  },
  "language_info": {
   "codemirror_mode": {
    "name": "ipython",
    "version": 3
   },
   "file_extension": ".py",
   "mimetype": "text/x-python",
   "name": "python",
   "nbconvert_exporter": "python",
   "pygments_lexer": "ipython3",
   "version": "3.7.3"
  }
 },
 "nbformat": 4,
 "nbformat_minor": 1
}
